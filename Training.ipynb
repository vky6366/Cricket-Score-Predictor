{
 "cells": [
  {
   "cell_type": "markdown",
   "metadata": {},
   "source": [
    "For T20I"
   ]
  },
  {
   "cell_type": "code",
   "execution_count": 1,
   "metadata": {},
   "outputs": [],
   "source": [
    "import pandas as pd\n",
    "import numpy as np\n",
    "from sklearn.model_selection import train_test_split\n",
    "import pickle\n",
    "from xgboost import XGBRegressor\n",
    "from sklearn.pipeline import Pipeline\n",
    "from sklearn.preprocessing import StandardScaler, OneHotEncoder\n",
    "from sklearn.compose import ColumnTransformer\n",
    "from sklearn.metrics import r2_score,mean_absolute_error"
   ]
  },
  {
   "cell_type": "code",
   "execution_count": 2,
   "metadata": {},
   "outputs": [
    {
     "data": {
      "text/html": [
       "<div>\n",
       "<style scoped>\n",
       "    .dataframe tbody tr th:only-of-type {\n",
       "        vertical-align: middle;\n",
       "    }\n",
       "\n",
       "    .dataframe tbody tr th {\n",
       "        vertical-align: top;\n",
       "    }\n",
       "\n",
       "    .dataframe thead th {\n",
       "        text-align: right;\n",
       "    }\n",
       "</style>\n",
       "<table border=\"1\" class=\"dataframe\">\n",
       "  <thead>\n",
       "    <tr style=\"text-align: right;\">\n",
       "      <th></th>\n",
       "      <th>batting_team</th>\n",
       "      <th>bowling_team</th>\n",
       "      <th>city</th>\n",
       "      <th>current_score</th>\n",
       "      <th>balls_left</th>\n",
       "      <th>wickets_left</th>\n",
       "      <th>crr</th>\n",
       "      <th>last_five</th>\n",
       "      <th>runs_x</th>\n",
       "    </tr>\n",
       "  </thead>\n",
       "  <tbody>\n",
       "    <tr>\n",
       "      <th>59064</th>\n",
       "      <td>Pakistan</td>\n",
       "      <td>Australia</td>\n",
       "      <td>Birmingham</td>\n",
       "      <td>37</td>\n",
       "      <td>88</td>\n",
       "      <td>9</td>\n",
       "      <td>6.937500</td>\n",
       "      <td>37.0</td>\n",
       "      <td>162</td>\n",
       "    </tr>\n",
       "    <tr>\n",
       "      <th>14730</th>\n",
       "      <td>Pakistan</td>\n",
       "      <td>England</td>\n",
       "      <td>Manchester</td>\n",
       "      <td>64</td>\n",
       "      <td>73</td>\n",
       "      <td>8</td>\n",
       "      <td>8.170213</td>\n",
       "      <td>38.0</td>\n",
       "      <td>190</td>\n",
       "    </tr>\n",
       "    <tr>\n",
       "      <th>76889</th>\n",
       "      <td>South Africa</td>\n",
       "      <td>Bangladesh</td>\n",
       "      <td>Mirpur</td>\n",
       "      <td>68</td>\n",
       "      <td>75</td>\n",
       "      <td>10</td>\n",
       "      <td>9.066667</td>\n",
       "      <td>41.0</td>\n",
       "      <td>169</td>\n",
       "    </tr>\n",
       "    <tr>\n",
       "      <th>32500</th>\n",
       "      <td>New Zealand</td>\n",
       "      <td>Pakistan</td>\n",
       "      <td>Christchurch</td>\n",
       "      <td>143</td>\n",
       "      <td>5</td>\n",
       "      <td>3</td>\n",
       "      <td>7.460870</td>\n",
       "      <td>45.0</td>\n",
       "      <td>147</td>\n",
       "    </tr>\n",
       "    <tr>\n",
       "      <th>72163</th>\n",
       "      <td>New Zealand</td>\n",
       "      <td>Bangladesh</td>\n",
       "      <td>Mirpur</td>\n",
       "      <td>79</td>\n",
       "      <td>68</td>\n",
       "      <td>9</td>\n",
       "      <td>9.115385</td>\n",
       "      <td>37.0</td>\n",
       "      <td>204</td>\n",
       "    </tr>\n",
       "  </tbody>\n",
       "</table>\n",
       "</div>"
      ],
      "text/plain": [
       "       batting_team bowling_team          city  current_score  balls_left  \\\n",
       "59064      Pakistan    Australia    Birmingham             37          88   \n",
       "14730      Pakistan      England    Manchester             64          73   \n",
       "76889  South Africa   Bangladesh        Mirpur             68          75   \n",
       "32500   New Zealand     Pakistan  Christchurch            143           5   \n",
       "72163   New Zealand   Bangladesh        Mirpur             79          68   \n",
       "\n",
       "       wickets_left       crr  last_five  runs_x  \n",
       "59064             9  6.937500       37.0     162  \n",
       "14730             8  8.170213       38.0     190  \n",
       "76889            10  9.066667       41.0     169  \n",
       "32500             3  7.460870       45.0     147  \n",
       "72163             9  9.115385       37.0     204  "
      ]
     },
     "execution_count": 2,
     "metadata": {},
     "output_type": "execute_result"
    }
   ],
   "source": [
    "df = pickle.load(open('Preprocessing\\T20I\\dataset_final.pkl','rb'))\n",
    "df.head()"
   ]
  },
  {
   "cell_type": "code",
   "execution_count": 3,
   "metadata": {},
   "outputs": [],
   "source": [
    "X = df.drop(columns=['runs_x'])\n",
    "y = df['runs_x']\n",
    "X_train, X_test, y_train, y_test = train_test_split(X,y,test_size = 0.2, random_state=42)"
   ]
  },
  {
   "cell_type": "code",
   "execution_count": 4,
   "metadata": {},
   "outputs": [],
   "source": [
    "trf = ColumnTransformer([\n",
    "    ('trf',OneHotEncoder(sparse_output=False,drop='first'),['batting_team','bowling_team','city'])\n",
    "],remainder='passthrough')"
   ]
  },
  {
   "cell_type": "code",
   "execution_count": 5,
   "metadata": {},
   "outputs": [],
   "source": [
    "pipe = Pipeline(steps=[\n",
    "    ('step1',trf),\n",
    "    ('step2',StandardScaler()),\n",
    "    ('step3', XGBRegressor(n_estimators=1000, learning_rate=0.2, max_depth=16, random_state=42))\n",
    "])"
   ]
  },
  {
   "cell_type": "code",
   "execution_count": 6,
   "metadata": {},
   "outputs": [
    {
     "name": "stdout",
     "output_type": "stream",
     "text": [
      "0.9862307906150818\n",
      "1.8783674240112305\n"
     ]
    }
   ],
   "source": [
    "pipe.fit(X_train,y_train)\n",
    "y_pred = pipe.predict(X_test)\n",
    "print(r2_score(y_test,y_pred))\n",
    "print(mean_absolute_error(y_test,y_pred))"
   ]
  },
  {
   "cell_type": "code",
   "execution_count": 7,
   "metadata": {},
   "outputs": [],
   "source": [
    "pickle.dump(pipe,open('t20i.pkl','wb'))"
   ]
  },
  {
   "cell_type": "markdown",
   "metadata": {},
   "source": [
    "For ODIs"
   ]
  },
  {
   "cell_type": "code",
   "execution_count": 8,
   "metadata": {},
   "outputs": [],
   "source": [
    "import pandas as pd\n",
    "import numpy as np\n",
    "from sklearn.model_selection import train_test_split\n",
    "import pickle\n",
    "from xgboost import XGBRegressor\n",
    "from sklearn.pipeline import Pipeline\n",
    "from sklearn.preprocessing import StandardScaler, OneHotEncoder\n",
    "from sklearn.compose import ColumnTransformer\n",
    "from sklearn.metrics import r2_score,mean_absolute_error"
   ]
  },
  {
   "cell_type": "code",
   "execution_count": 9,
   "metadata": {},
   "outputs": [
    {
     "data": {
      "text/html": [
       "<div>\n",
       "<style scoped>\n",
       "    .dataframe tbody tr th:only-of-type {\n",
       "        vertical-align: middle;\n",
       "    }\n",
       "\n",
       "    .dataframe tbody tr th {\n",
       "        vertical-align: top;\n",
       "    }\n",
       "\n",
       "    .dataframe thead th {\n",
       "        text-align: right;\n",
       "    }\n",
       "</style>\n",
       "<table border=\"1\" class=\"dataframe\">\n",
       "  <thead>\n",
       "    <tr style=\"text-align: right;\">\n",
       "      <th></th>\n",
       "      <th>batting_team</th>\n",
       "      <th>bowling_team</th>\n",
       "      <th>city</th>\n",
       "      <th>current_score</th>\n",
       "      <th>balls_left</th>\n",
       "      <th>wickets_left</th>\n",
       "      <th>crr</th>\n",
       "      <th>last_five</th>\n",
       "      <th>runs_x</th>\n",
       "    </tr>\n",
       "  </thead>\n",
       "  <tbody>\n",
       "    <tr>\n",
       "      <th>151902</th>\n",
       "      <td>Sri Lanka</td>\n",
       "      <td>England</td>\n",
       "      <td>London</td>\n",
       "      <td>166</td>\n",
       "      <td>0</td>\n",
       "      <td>9</td>\n",
       "      <td>6.225000</td>\n",
       "      <td>44.0</td>\n",
       "      <td>319</td>\n",
       "    </tr>\n",
       "    <tr>\n",
       "      <th>18178</th>\n",
       "      <td>Australia</td>\n",
       "      <td>England</td>\n",
       "      <td>Melbourne</td>\n",
       "      <td>156</td>\n",
       "      <td>0</td>\n",
       "      <td>7</td>\n",
       "      <td>5.348571</td>\n",
       "      <td>31.0</td>\n",
       "      <td>304</td>\n",
       "    </tr>\n",
       "    <tr>\n",
       "      <th>407727</th>\n",
       "      <td>Pakistan</td>\n",
       "      <td>Sri Lanka</td>\n",
       "      <td>Dambulla</td>\n",
       "      <td>161</td>\n",
       "      <td>0</td>\n",
       "      <td>3</td>\n",
       "      <td>3.577778</td>\n",
       "      <td>26.0</td>\n",
       "      <td>199</td>\n",
       "    </tr>\n",
       "    <tr>\n",
       "      <th>293775</th>\n",
       "      <td>Sri Lanka</td>\n",
       "      <td>New Zealand</td>\n",
       "      <td>Rangiri</td>\n",
       "      <td>121</td>\n",
       "      <td>0</td>\n",
       "      <td>8</td>\n",
       "      <td>4.453988</td>\n",
       "      <td>26.0</td>\n",
       "      <td>203</td>\n",
       "    </tr>\n",
       "    <tr>\n",
       "      <th>358907</th>\n",
       "      <td>Australia</td>\n",
       "      <td>West Indies</td>\n",
       "      <td>St George's</td>\n",
       "      <td>140</td>\n",
       "      <td>0</td>\n",
       "      <td>5</td>\n",
       "      <td>4.038462</td>\n",
       "      <td>15.0</td>\n",
       "      <td>247</td>\n",
       "    </tr>\n",
       "  </tbody>\n",
       "</table>\n",
       "</div>"
      ],
      "text/plain": [
       "       batting_team bowling_team         city  current_score  balls_left  \\\n",
       "151902    Sri Lanka      England       London            166           0   \n",
       "18178     Australia      England    Melbourne            156           0   \n",
       "407727     Pakistan    Sri Lanka     Dambulla            161           0   \n",
       "293775    Sri Lanka  New Zealand      Rangiri            121           0   \n",
       "358907    Australia  West Indies  St George's            140           0   \n",
       "\n",
       "        wickets_left       crr  last_five  runs_x  \n",
       "151902             9  6.225000       44.0     319  \n",
       "18178              7  5.348571       31.0     304  \n",
       "407727             3  3.577778       26.0     199  \n",
       "293775             8  4.453988       26.0     203  \n",
       "358907             5  4.038462       15.0     247  "
      ]
     },
     "execution_count": 9,
     "metadata": {},
     "output_type": "execute_result"
    }
   ],
   "source": [
    "df = pickle.load(open('Preprocessing\\ODI\\dataset_final.pkl','rb'))\n",
    "df.head()"
   ]
  },
  {
   "cell_type": "code",
   "execution_count": 10,
   "metadata": {},
   "outputs": [],
   "source": [
    "X = df.drop(columns=['runs_x'])\n",
    "y = df['runs_x']\n",
    "X_train, X_test, y_train, y_test = train_test_split(X,y,test_size = 0.2, random_state=42)"
   ]
  },
  {
   "cell_type": "code",
   "execution_count": 11,
   "metadata": {},
   "outputs": [],
   "source": [
    "trf = ColumnTransformer([\n",
    "    ('trf',OneHotEncoder(sparse_output=False,drop='first'),['batting_team','bowling_team','city'])\n",
    "],remainder='passthrough')"
   ]
  },
  {
   "cell_type": "code",
   "execution_count": 12,
   "metadata": {},
   "outputs": [],
   "source": [
    "pipe = Pipeline(steps=[\n",
    "    ('step1',trf),\n",
    "    ('step2',StandardScaler()),\n",
    "    ('step3', XGBRegressor(n_estimators=1000, learning_rate=0.2, max_depth=16, random_state=42))\n",
    "])"
   ]
  },
  {
   "cell_type": "code",
   "execution_count": 13,
   "metadata": {},
   "outputs": [
    {
     "name": "stdout",
     "output_type": "stream",
     "text": [
      "0.9885841608047485\n",
      "2.5144143104553223\n"
     ]
    }
   ],
   "source": [
    "pipe.fit(X_train,y_train)\n",
    "y_pred = pipe.predict(X_test)\n",
    "print(r2_score(y_test,y_pred))\n",
    "print(mean_absolute_error(y_test,y_pred))"
   ]
  },
  {
   "cell_type": "code",
   "execution_count": 14,
   "metadata": {},
   "outputs": [],
   "source": [
    "pickle.dump(pipe,open('odi.pkl','wb'))"
   ]
  },
  {
   "cell_type": "code",
   "execution_count": null,
   "metadata": {},
   "outputs": [],
   "source": []
  }
 ],
 "metadata": {
  "kernelspec": {
   "display_name": "Cricket-Score-Predictor",
   "language": "python",
   "name": "python3"
  },
  "language_info": {
   "codemirror_mode": {
    "name": "ipython",
    "version": 3
   },
   "file_extension": ".py",
   "mimetype": "text/x-python",
   "name": "python",
   "nbconvert_exporter": "python",
   "pygments_lexer": "ipython3",
   "version": "3.11.9"
  }
 },
 "nbformat": 4,
 "nbformat_minor": 4
}
